{
 "cells": [
  {
   "cell_type": "code",
   "execution_count": 8,
   "metadata": {},
   "outputs": [
    {
     "data": {
      "text/plain": [
       "(   patient_id  age  gender  doctor_name   appointment_reason appointment_date  \\\n",
       " 0           1   38  Female    Dr. Smith  Screening for COVID       2023-02-05   \n",
       " 1           2   53    Male    Dr. Brown           Ultrasound       2023-05-09   \n",
       " 2           3   67  Female    Dr. Smith          Annual Exam       2023-01-30   \n",
       " 3           4   63  Female  Dr. Johnson             Flu Shot       2023-04-08   \n",
       " 4           5   77    Male    Dr. Jones    Allergy injection       2023-02-24   \n",
       " \n",
       "   appointment_status  \n",
       " 0           Attended  \n",
       " 1           Attended  \n",
       " 2           Attended  \n",
       " 3       Not Attended  \n",
       " 4       Not Attended  ,\n",
       "    patient_id    group             event_name       event_datetime\n",
       " 0           1  Control   attended_appointment  2023-02-05 15:40:21\n",
       " 1           2     Test          reminder_sent  2023-05-07 09:19:13\n",
       " 2           2     Test        reminder_viewed  2023-05-08 04:25:10\n",
       " 3           2     Test  appointment_confirmed  2023-05-08 04:26:36\n",
       " 4           2     Test   attended_appointment  2023-05-09 10:34:13,\n",
       "    patient_id  traffic_source        device\n",
       " 0           1  Organic Search      IOS 17.4\n",
       " 1           2        Meta Ads      IOS 16.5\n",
       " 2           3          Direct   Android 8.3\n",
       " 3           4          Direct  Android 12.1\n",
       " 4           5          Direct      IOS 13.4,\n",
       " patient_id            0\n",
       " age                   0\n",
       " gender                0\n",
       " doctor_name           0\n",
       " appointment_reason    0\n",
       " appointment_date      0\n",
       " appointment_status    0\n",
       " dtype: int64,\n",
       " patient_id        0\n",
       " group             0\n",
       " event_name        0\n",
       " event_datetime    0\n",
       " dtype: int64,\n",
       " patient_id        0\n",
       " traffic_source    0\n",
       " device            0\n",
       " dtype: int64)"
      ]
     },
     "execution_count": 8,
     "metadata": {},
     "output_type": "execute_result"
    }
   ],
   "source": [
    "import pandas as pd\n",
    "import matplotlib.pyplot as plt\n",
    "from scipy import stats\n",
    "import numpy as np\n",
    "from scipy.stats import chi2_contingency\n",
    "import seaborn as sns\n",
    "\n",
    "# Load the datasets\n",
    "appointments_data = pd.read_csv('data/appointments_data.csv')\n",
    "ab_test_data = pd.read_csv('data/ab_test_data.csv')\n",
    "app_data = pd.read_csv('data/app_data.csv')\n",
    "\n",
    "# Display the first few rows of each dataset to understand their structure\n",
    "appointments_data_head = appointments_data.head()\n",
    "ab_test_data_head = ab_test_data.head()\n",
    "app_data_head = app_data.head()\n",
    "\n",
    "# Check for missing values in each dataset\n",
    "appointments_data_missing = appointments_data.isnull().sum()\n",
    "ab_test_data_missing = ab_test_data.isnull().sum()\n",
    "app_data_missing = app_data.isnull().sum()\n",
    "\n",
    "appointments_data_head, ab_test_data_head, app_data_head, appointments_data_missing, ab_test_data_missing, app_data_missing\n"
   ]
  },
  {
   "cell_type": "markdown",
   "metadata": {},
   "source": [
    "<!-- Control Group Attendance Rate: 1.0%\n",
    "\n",
    "Only 1% of patients in the Control group attended their appointments without receiving a reminder.\n",
    "Test Group Attendance Rate: 65.56%\n",
    "\n",
    "About 65.56% of patients in the Test group attended their appointments after receiving a reminder.\n",
    "Chi-Square Test:\n",
    "\n",
    "The chi-square statistic is 375.72 with a p-value of 1.06e-83. This shows a highly statistically significant difference between the Control and Test groups, indicating that the reminder significantly increased attendance rates.\n",
    "Interpretation:\n",
    "Even though the Control group serves as the baseline for natural patient behavior, the attendance rate without reminders is very low (1%). The reminder in the Test group greatly improved attendance, with around 65.56% of patients attending their appointments. This suggests that the reminder feature not only helps in confirming appointments but also has a significant impact on actual attendance.\n",
    " -->\n"
   ]
  },
  {
   "cell_type": "markdown",
   "metadata": {},
   "source": []
  },
  {
   "cell_type": "code",
   "execution_count": 6,
   "metadata": {},
   "outputs": [],
   "source": []
  },
  {
   "cell_type": "code",
   "execution_count": null,
   "metadata": {},
   "outputs": [],
   "source": []
  },
  {
   "cell_type": "code",
   "execution_count": null,
   "metadata": {},
   "outputs": [],
   "source": []
  },
  {
   "cell_type": "code",
   "execution_count": null,
   "metadata": {},
   "outputs": [],
   "source": []
  }
 ],
 "metadata": {
  "kernelspec": {
   "display_name": ".venv",
   "language": "python",
   "name": "python3"
  },
  "language_info": {
   "codemirror_mode": {
    "name": "ipython",
    "version": 3
   },
   "file_extension": ".py",
   "mimetype": "text/x-python",
   "name": "python",
   "nbconvert_exporter": "python",
   "pygments_lexer": "ipython3",
   "version": "3.12.4"
  }
 },
 "nbformat": 4,
 "nbformat_minor": 2
}
