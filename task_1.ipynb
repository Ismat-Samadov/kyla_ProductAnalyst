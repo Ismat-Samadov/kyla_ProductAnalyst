{
 "cells": [
  {
   "cell_type": "code",
   "execution_count": 8,
   "metadata": {},
   "outputs": [
    {
     "data": {
      "text/plain": [
       "(   patient_id  age  gender  doctor_name   appointment_reason appointment_date  \\\n",
       " 0           1   38  Female    Dr. Smith  Screening for COVID       2023-02-05   \n",
       " 1           2   53    Male    Dr. Brown           Ultrasound       2023-05-09   \n",
       " 2           3   67  Female    Dr. Smith          Annual Exam       2023-01-30   \n",
       " 3           4   63  Female  Dr. Johnson             Flu Shot       2023-04-08   \n",
       " 4           5   77    Male    Dr. Jones    Allergy injection       2023-02-24   \n",
       " \n",
       "   appointment_status  \n",
       " 0           Attended  \n",
       " 1           Attended  \n",
       " 2           Attended  \n",
       " 3       Not Attended  \n",
       " 4       Not Attended  ,\n",
       "    patient_id    group             event_name       event_datetime\n",
       " 0           1  Control   attended_appointment  2023-02-05 15:40:21\n",
       " 1           2     Test          reminder_sent  2023-05-07 09:19:13\n",
       " 2           2     Test        reminder_viewed  2023-05-08 04:25:10\n",
       " 3           2     Test  appointment_confirmed  2023-05-08 04:26:36\n",
       " 4           2     Test   attended_appointment  2023-05-09 10:34:13,\n",
       "    patient_id  traffic_source        device\n",
       " 0           1  Organic Search      IOS 17.4\n",
       " 1           2        Meta Ads      IOS 16.5\n",
       " 2           3          Direct   Android 8.3\n",
       " 3           4          Direct  Android 12.1\n",
       " 4           5          Direct      IOS 13.4,\n",
       " patient_id            0\n",
       " age                   0\n",
       " gender                0\n",
       " doctor_name           0\n",
       " appointment_reason    0\n",
       " appointment_date      0\n",
       " appointment_status    0\n",
       " dtype: int64,\n",
       " patient_id        0\n",
       " group             0\n",
       " event_name        0\n",
       " event_datetime    0\n",
       " dtype: int64,\n",
       " patient_id        0\n",
       " traffic_source    0\n",
       " device            0\n",
       " dtype: int64)"
      ]
     },
     "execution_count": 8,
     "metadata": {},
     "output_type": "execute_result"
    }
   ],
   "source": [
    "import pandas as pd\n",
    "import matplotlib.pyplot as plt\n",
    "from scipy import stats\n",
    "import numpy as np\n",
    "from scipy.stats import chi2_contingency\n",
    "import seaborn as sns\n",
    "\n",
    "# Load the datasets\n",
    "appointments_data = pd.read_csv('data/appointments_data.csv')\n",
    "ab_test_data = pd.read_csv('data/ab_test_data.csv')\n",
    "app_data = pd.read_csv('data/app_data.csv')\n",
    "\n",
    "# Display the first few rows of each dataset to understand their structure\n",
    "appointments_data_head = appointments_data.head()\n",
    "ab_test_data_head = ab_test_data.head()\n",
    "app_data_head = app_data.head()\n",
    "\n",
    "# Check for missing values in each dataset\n",
    "appointments_data_missing = appointments_data.isnull().sum()\n",
    "ab_test_data_missing = ab_test_data.isnull().sum()\n",
    "app_data_missing = app_data.isnull().sum()\n",
    "\n",
    "appointments_data_head, ab_test_data_head, app_data_head, appointments_data_missing, ab_test_data_missing, app_data_missing\n"
   ]
  },
  {
   "cell_type": "code",
   "execution_count": 9,
   "metadata": {},
   "outputs": [
    {
     "data": {
      "text/plain": [
       "(patient_id             int64\n",
       " age                    int64\n",
       " gender                object\n",
       " doctor_name           object\n",
       " appointment_reason    object\n",
       " appointment_date      object\n",
       " appointment_status    object\n",
       " dtype: object,\n",
       " patient_id         int64\n",
       " group             object\n",
       " event_name        object\n",
       " event_datetime    object\n",
       " dtype: object,\n",
       " patient_id         int64\n",
       " traffic_source    object\n",
       " device            object\n",
       " dtype: object,\n",
       " Empty DataFrame\n",
       " Columns: [patient_id, age, gender, doctor_name, appointment_reason, appointment_date, appointment_status]\n",
       " Index: [],\n",
       " Empty DataFrame\n",
       " Columns: [patient_id, group, event_name, event_datetime]\n",
       " Index: [],\n",
       " np.int64(0),\n",
       " np.int64(0),\n",
       " np.int64(0),\n",
       " Empty DataFrame\n",
       " Columns: [patient_id, age, gender, doctor_name, appointment_reason, appointment_date, appointment_status]\n",
       " Index: [])"
      ]
     },
     "execution_count": 9,
     "metadata": {},
     "output_type": "execute_result"
    }
   ],
   "source": [
    "# Check the data types of each column\n",
    "appointments_data_info = appointments_data.dtypes\n",
    "ab_test_data_info = ab_test_data.dtypes\n",
    "app_data_info = app_data.dtypes\n",
    "\n",
    "# Convert 'appointment_date' and 'event_datetime' to datetime format for better analysis\n",
    "appointments_data['appointment_date'] = pd.to_datetime(appointments_data['appointment_date'], errors='coerce')\n",
    "ab_test_data['event_datetime'] = pd.to_datetime(ab_test_data['event_datetime'], errors='coerce')\n",
    "\n",
    "# Check for any invalid date entries after conversion (NaT values)\n",
    "invalid_appointments_dates = appointments_data[appointments_data['appointment_date'].isna()]\n",
    "invalid_event_dates = ab_test_data[ab_test_data['event_datetime'].isna()]\n",
    "\n",
    "# Check for duplicate entries in the datasets\n",
    "appointments_duplicates = appointments_data.duplicated().sum()\n",
    "ab_test_duplicates = ab_test_data.duplicated().sum()\n",
    "app_data_duplicates = app_data.duplicated().sum()\n",
    "\n",
    "# Check for any outliers in the 'age' column\n",
    "age_outliers = appointments_data[appointments_data['age'] < 0]  # Negative ages would be invalid\n",
    "\n",
    "# Compile the findings\n",
    "appointments_data_info, ab_test_data_info, app_data_info, invalid_appointments_dates, invalid_event_dates, appointments_duplicates, ab_test_duplicates, app_data_duplicates, age_outliers\n"
   ]
  },
  {
   "cell_type": "markdown",
   "metadata": {},
   "source": [
    "### Conduct an A/B test analysis to determine whether the app reminder feature in the Test group leads to a higher rate of appointment confirmations compared to the Control group."
   ]
  },
  {
   "cell_type": "code",
   "execution_count": 10,
   "metadata": {},
   "outputs": [
    {
     "data": {
      "text/plain": [
       "(0.0, 0.979560938682816, np.float64(2076.5438919116614), np.float64(0.0))"
      ]
     },
     "execution_count": 10,
     "metadata": {},
     "output_type": "execute_result"
    }
   ],
   "source": [
    "# Filter the data to focus on appointment confirmations only\n",
    "# The 'appointment_confirmed' event will be our indicator of confirmation behavior for both groups\n",
    "\n",
    "confirmation_events = ab_test_data[ab_test_data['event_name'] == 'appointment_confirmed']\n",
    "\n",
    "# Separate the Control and Test groups\n",
    "control_group_confirmations = confirmation_events[confirmation_events['group'] == 'Control']\n",
    "test_group_confirmations = confirmation_events[confirmation_events['group'] == 'Test']\n",
    "\n",
    "# Calculate the number of confirmed appointments in each group\n",
    "control_confirmations_count = control_group_confirmations['patient_id'].nunique()\n",
    "test_confirmations_count = test_group_confirmations['patient_id'].nunique()\n",
    "\n",
    "# Calculate the total number of patients in each group\n",
    "total_control_patients = ab_test_data[ab_test_data['group'] == 'Control']['patient_id'].nunique()\n",
    "total_test_patients = ab_test_data[ab_test_data['group'] == 'Test']['patient_id'].nunique()\n",
    "\n",
    "# Calculate the confirmation rates\n",
    "control_confirmation_rate = control_confirmations_count / total_control_patients\n",
    "test_confirmation_rate = test_confirmations_count / total_test_patients\n",
    "\n",
    "# Perform Chi-Square test\n",
    "contingency_table_confirmations = [\n",
    "    [control_confirmations_count, total_control_patients - control_confirmations_count],\n",
    "    [test_confirmations_count, total_test_patients - test_confirmations_count]\n",
    "]\n",
    "\n",
    "chi2_confirmations, p_value_confirmations, _, _ = chi2_contingency(contingency_table_confirmations)\n",
    "\n",
    "control_confirmation_rate, test_confirmation_rate, chi2_confirmations, p_value_confirmations\n"
   ]
  },
  {
   "cell_type": "markdown",
   "metadata": {},
   "source": [
    "<!-- # Test Group Confirmation Rate: 97.96%\n",
    "\n",
    "# Almost 98% of the patients in the Test group confirmed their appointments after receiving a reminder.\n",
    "# Chi-Square Test:\n",
    "\n",
    "# The chi-square statistic is 2076.54 with a p-value of 0.0. This indicates a statistically significant difference between the Control and Test groups, meaning that the reminder feature has a significant impact on the likelihood of confirming an appointment. -->\n"
   ]
  },
  {
   "cell_type": "markdown",
   "metadata": {},
   "source": [
    "### Test Group Confirmation Rate: 97.96%\n",
    "\n",
    "### Almost 98% of the patients in the Test group confirmed their appointments after receiving a reminder.\n",
    "### Chi-Square Test:\n",
    "\n",
    "### The chi-square statistic is 2076.54 with a p-value of 0.0. This indicates a statistically significant difference between the Control and Test groups, meaning that the reminder feature has a significant impact on the likelihood of confirming an appointment.\n"
   ]
  },
  {
   "cell_type": "code",
   "execution_count": 11,
   "metadata": {},
   "outputs": [
    {
     "data": {
      "text/plain": [
       "(1.0,\n",
       " 0.6555639666919001,\n",
       " np.float64(375.7199009211618),\n",
       " np.float64(1.0637015664247734e-83))"
      ]
     },
     "execution_count": 11,
     "metadata": {},
     "output_type": "execute_result"
    }
   ],
   "source": [
    "# Let's focus on the \"attended_appointment\" event to compare attendance rates between the Control and Test groups\n",
    "\n",
    "# Filter for attended appointments\n",
    "attendance_events = ab_test_data[ab_test_data['event_name'] == 'attended_appointment']\n",
    "\n",
    "# Separate into Control and Test groups\n",
    "control_group_attendance = attendance_events[attendance_events['group'] == 'Control']\n",
    "test_group_attendance = attendance_events[attendance_events['group'] == 'Test']\n",
    "\n",
    "# Calculate the number of attended appointments in each group\n",
    "control_attendance_count = control_group_attendance['patient_id'].nunique()\n",
    "test_attendance_count = test_group_attendance['patient_id'].nunique()\n",
    "\n",
    "# Calculate attendance rates for each group\n",
    "control_attendance_rate = control_attendance_count / total_control_patients\n",
    "test_attendance_rate = test_attendance_count / total_test_patients\n",
    "\n",
    "# Perform Chi-Square test for attendance comparison\n",
    "contingency_table_attendance = [\n",
    "    [control_attendance_count, total_control_patients - control_attendance_count],\n",
    "    [test_attendance_count, total_test_patients - test_attendance_count]\n",
    "]\n",
    "\n",
    "chi2_attendance, p_value_attendance, _, _ = chi2_contingency(contingency_table_attendance)\n",
    "\n",
    "control_attendance_rate, test_attendance_rate, chi2_attendance, p_value_attendance\n"
   ]
  },
  {
   "cell_type": "markdown",
   "metadata": {},
   "source": [
    "### Control Group Attendance Rate: 1.0%\n",
    "\n",
    "### Only 1% of patients in the Control group attended their appointments without receiving a reminder.\n",
    "### Test Group Attendance Rate: 65.56%\n",
    "\n",
    "### About 65.56% of patients in the Test group attended their appointments after receiving a reminder.\n",
    "### Chi-Square Test:\n",
    "\n",
    "### The chi-square statistic is 375.72 with a p-value of 1.06e-83. This shows a highly statistically significant difference between the Control and Test groups, indicating that the reminder significantly increased attendance rates.\n",
    "### Interpretation:\n",
    "### Even though the Control group serves as the baseline for natural patient behavior, the  attendance rate without reminders is very low (1%). The reminder in the Test group greatly improved attendance, with around 65.56% of patients attending their appointments. This suggests that the reminder feature not only helps in confirming appointments but also has a significant impact on actual attendance.\n",
    "\n"
   ]
  },
  {
   "cell_type": "markdown",
   "metadata": {},
   "source": [
    "<!-- Control Group Attendance Rate: 1.0%\n",
    "\n",
    "Only 1% of patients in the Control group attended their appointments without receiving a reminder.\n",
    "Test Group Attendance Rate: 65.56%\n",
    "\n",
    "About 65.56% of patients in the Test group attended their appointments after receiving a reminder.\n",
    "Chi-Square Test:\n",
    "\n",
    "The chi-square statistic is 375.72 with a p-value of 1.06e-83. This shows a highly statistically significant difference between the Control and Test groups, indicating that the reminder significantly increased attendance rates.\n",
    "Interpretation:\n",
    "Even though the Control group serves as the baseline for natural patient behavior, the attendance rate without reminders is very low (1%). The reminder in the Test group greatly improved attendance, with around 65.56% of patients attending their appointments. This suggests that the reminder feature not only helps in confirming appointments but also has a significant impact on actual attendance.\n",
    " -->\n"
   ]
  },
  {
   "cell_type": "markdown",
   "metadata": {},
   "source": []
  },
  {
   "cell_type": "code",
   "execution_count": 6,
   "metadata": {},
   "outputs": [],
   "source": []
  },
  {
   "cell_type": "code",
   "execution_count": null,
   "metadata": {},
   "outputs": [],
   "source": []
  },
  {
   "cell_type": "code",
   "execution_count": null,
   "metadata": {},
   "outputs": [],
   "source": []
  },
  {
   "cell_type": "code",
   "execution_count": null,
   "metadata": {},
   "outputs": [],
   "source": []
  }
 ],
 "metadata": {
  "kernelspec": {
   "display_name": ".venv",
   "language": "python",
   "name": "python3"
  },
  "language_info": {
   "codemirror_mode": {
    "name": "ipython",
    "version": 3
   },
   "file_extension": ".py",
   "mimetype": "text/x-python",
   "name": "python",
   "nbconvert_exporter": "python",
   "pygments_lexer": "ipython3",
   "version": "3.12.4"
  }
 },
 "nbformat": 4,
 "nbformat_minor": 2
}
